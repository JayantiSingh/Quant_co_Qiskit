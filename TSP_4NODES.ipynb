{
 "cells": [
  {
   "cell_type": "code",
   "execution_count": 1,
   "metadata": {},
   "outputs": [],
   "source": [
    "# useful additional packages \n",
    "from qiskit import IBMQ, BasicAer, execute\n",
    "from qiskit import Aer\n",
    "from qiskit.aqua.components.oracles import LogicalExpressionOracle\n",
    "from qiskit.aqua.algorithms import Grover\n",
    "from qiskit.aqua.algorithms import VQE, ExactEigensolver\n",
    "from qiskit.tools.visualization import plot_histogram\n",
    "from qiskit.aqua import Operator, run_algorithm\n",
    "from qiskit.aqua.input import EnergyInput\n",
    "from qiskit.aqua.translators.ising import max_cut, tsp\n",
    "from qiskit.aqua.components.optimizers import SPSA\n",
    "from qiskit.aqua.components.variational_forms import RY\n",
    "from qiskit.aqua import QuantumInstance\n",
    "\n",
    "# useful additional packages \n",
    "import matplotlib.pyplot as plt\n",
    "import matplotlib.axes as axes\n",
    "%matplotlib inline\n",
    "import numpy as np\n",
    "import networkx as nx\n",
    "\n",
    "\n",
    "\n",
    "# setup aqua logging\n",
    "import logging\n",
    "from qiskit.aqua._logging import set_logging_config, build_logging_config\n",
    "# set_logging_config(build_logging_config(logging.DEBUG))  # choose INFO, DEBUG to see the log\n",
    "# ignoring deprecation errors on matplotlib\n",
    "import warnings\n",
    "import matplotlib.cbook\n",
    "warnings.filterwarnings(\"ignore\",category=matplotlib.cbook.mplDeprecation)"
   ]
  },
  {
   "cell_type": "code",
   "execution_count": 2,
   "metadata": {},
   "outputs": [
    {
     "name": "stdout",
     "output_type": "stream",
     "text": [
      "distance\n",
      " [[ 0. 57. 71. 80.]\n",
      " [57.  0. 41. 97.]\n",
      " [71. 41.  0. 68.]\n",
      " [80. 97. 68.  0.]]\n"
     ]
    },
    {
     "data": {
      "image/png": "[encoded data removed]",
      "text/plain": [
       "<Figure size 432x288 with 1 Axes>"
      ]
     },
     "metadata": {},
     "output_type": "display_data"
    }
   ],
   "source": [
    "# Generating a graph of 4 nodes\n",
    "\n",
    "n = 4\n",
    "num_qubits = n ** 2\n",
    "ins = tsp.random_tsp(n)\n",
    "G = nx.Graph()\n",
    "G.add_nodes_from(np.arange(0, n, 1))\n",
    "colors = ['r' for node in G.nodes()]\n",
    "pos = {k: v for k, v in enumerate(ins.coord)}\n",
    "default_axes = plt.axes(frameon=True)\n",
    "nx.draw_networkx(G, node_color=colors, node_size=600, alpha=.8, ax=default_axes, pos=pos)\n",
    "print('distance\\n', ins.w)"
   ]
  },
  {
   "cell_type": "code",
   "execution_count": 3,
   "metadata": {},
   "outputs": [
    {
     "name": "stdout",
     "output_type": "stream",
     "text": [
      "order = (0, 1, 2, 3) Distance = 246.0\n",
      "Best order from brute force = (0, 1, 2, 3) with total distance = 246.0\n"
     ]
    },
    {
     "data": {
      "image/png": "[encoded data removed]",
      "text/plain": [
       "<Figure size 432x288 with 1 Axes>"
      ]
     },
     "metadata": {},
     "output_type": "display_data"
    }
   ],
   "source": [
    "from itertools import permutations\n",
    "\n",
    "def brute_force_tsp(w, N):\n",
    "    a=list(permutations(range(1,N)))\n",
    "    last_best_distance = 1e10\n",
    "    for i in a:\n",
    "        distance = 0\n",
    "        pre_j = 0\n",
    "        for j in i:\n",
    "            distance = distance + w[j,pre_j]\n",
    "            pre_j = j\n",
    "        distance = distance + w[pre_j,0]\n",
    "        order = (0,) + i\n",
    "        if distance < last_best_distance:\n",
    "            best_order = order\n",
    "            last_best_distance = distance\n",
    "            print('order = ' + str(order) + ' Distance = ' + str(distance))\n",
    "    return last_best_distance, best_order\n",
    "  \n",
    "best_distance, best_order = brute_force_tsp(ins.w, ins.dim)\n",
    "print('Best order from brute force = ' + str(best_order) + ' with total distance = ' + str(best_distance))\n",
    "\n",
    "def draw_tsp_solution(G, order, colors, pos):\n",
    "    G2 = G.copy()\n",
    "    n = len(order)\n",
    "    for i in range(n):\n",
    "        j = (i + 1) % n\n",
    "        G2.add_edge(order[i], order[j])\n",
    "    default_axes = plt.axes(frameon=True)\n",
    "    nx.draw_networkx(G2, node_color=colors, node_size=600, alpha=.8, ax=default_axes, pos=pos)\n",
    "draw_tsp_solution(G, best_order, colors, pos)"
   ]
  },
  {
   "cell_type": "code",
   "execution_count": 4,
   "metadata": {},
   "outputs": [],
   "source": [
    "qubitOp, offset = tsp.get_tsp_qubitops(ins)\n",
    "algo_input = EnergyInput(qubitOp)"
   ]
  },
  {
   "cell_type": "code",
   "execution_count": 5,
   "metadata": {},
   "outputs": [
    {
     "name": "stdout",
     "output_type": "stream",
     "text": [
      "energy: -1600582.0\n",
      "feasible: True\n",
      "solution: [1, 2, 3, 0]\n",
      "solution objective: 246.0\n"
     ]
    },
    {
     "data": {
      "image/png": "[encoded data removed]",
      "text/plain": [
       "<Figure size 432x288 with 1 Axes>"
      ]
     },
     "metadata": {},
     "output_type": "display_data"
    }
   ],
   "source": [
    "#Making the Hamiltonian in its full form and getting the lowest eigenvalue and eigenvector\n",
    "\n",
    "ee = ExactEigensolver(qubitOp, k=1)\n",
    "result = ee.run()\n",
    "\n",
    "\"\"\"\n",
    "algorithm_cfg = {\n",
    "    'name': 'ExactEigensolver',\n",
    "}\n",
    "\n",
    "params = {\n",
    "    'problem': {'name': 'ising'},\n",
    "    'algorithm': algorithm_cfg\n",
    "}\n",
    "result = run_algorithm(params,algo_input)\n",
    "\"\"\"\n",
    "x = tsp.sample_most_likely(result['eigvecs'][0])\n",
    "print('energy:', result['energy'])\n",
    "#print('tsp objective:', result['energy'] + offset)\n",
    "\n",
    "print('feasible:', tsp.tsp_feasible(x))\n",
    "z = tsp.get_tsp_solution(x)\n",
    "print('solution:', z)\n",
    "print('solution objective:', tsp.tsp_value(z, ins.w))\n",
    "draw_tsp_solution(G, z, colors, pos)"
   ]
  },
  {
   "cell_type": "code",
   "execution_count": 6,
   "metadata": {},
   "outputs": [
    {
     "name": "stdout",
     "output_type": "stream",
     "text": [
      "energy: -1455052.4180345936\n",
      "time: 1401.0124862194061\n",
      "feasible: True\n",
      "solution: [3, 1, 0, 2]\n",
      "solution objective: 293.0\n"
     ]
    },
    {
     "data": {
      "image/png": "[encoded data removed]",
      "text/plain": [
       "<Figure size 432x288 with 1 Axes>"
      ]
     },
     "metadata": {},
     "output_type": "display_data"
    }
   ],
   "source": [
    "seed = 10598\n",
    "\n",
    "spsa = SPSA(max_trials=300)\n",
    "ry = RY(qubitOp.num_qubits, depth=5, entanglement='linear')\n",
    "vqe = VQE(qubitOp, ry, spsa)\n",
    "\n",
    "backend = BasicAer.get_backend('statevector_simulator')\n",
    "quantum_instance = QuantumInstance(backend, seed_simulator=seed, seed_transpiler=seed)\n",
    "\n",
    "result = vqe.run(quantum_instance)\n",
    "\"\"\"\n",
    "algorithm_cfg = {\n",
    "    'name': 'VQE'\n",
    "}\n",
    "\n",
    "optimizer_cfg = {\n",
    "    'name': 'SPSA',\n",
    "    'max_trials': 300\n",
    "}\n",
    "\n",
    "var_form_cfg = {\n",
    "    'name': 'RY',\n",
    "    'depth': 5,\n",
    "    'entanglement': 'linear'\n",
    "}\n",
    "params = {\n",
    "    'problem': {'name': 'ising', 'random_seed': seed},\n",
    "    'algorithm': algorithm_cfg,\n",
    "    'optimizer': optimizer_cfg,\n",
    "    'variational_form': var_form_cfg,\n",
    "    'backend': {'provider': 'qiskit.Aer', 'name': 'statevector_simulator'}\n",
    "}\n",
    "result = run_algorithm(parahms,algo_input)\n",
    "\"\"\"\n",
    "print('energy:', result['energy'])\n",
    "print('time:', result['eval_time'])\n",
    "#print('tsp objective:', result['energy'] + offset)\n",
    "x = tsp.sample_most_likely(result['eigvecs'][0])\n",
    "print('feasible:', tsp.tsp_feasible(x))\n",
    "z = tsp.get_tsp_solution(x)\n",
    "print('solution:', z)\n",
    "print('solution objective:', tsp.tsp_value(z, ins.w))\n",
    "draw_tsp_solution(G, z, colors, pos)"
   ]
  }
 ],
 "metadata": {
  "kernelspec": {
   "display_name": "Python 3",
   "language": "python",
   "name": "python3"
  },
  "language_info": {
   "codemirror_mode": {
    "name": "ipython",
    "version": 3
   },
   "file_extension": ".py",
   "mimetype": "text/x-python",
   "name": "python",
   "nbconvert_exporter": "python",
   "pygments_lexer": "ipython3",
   "version": "3.7.3"
  }
 },
 "nbformat": 4,
 "nbformat_minor": 2
}
